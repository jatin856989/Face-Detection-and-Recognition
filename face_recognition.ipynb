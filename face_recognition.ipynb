{
 "cells": [
  {
   "cell_type": "code",
   "execution_count": null,
   "id": "a97c3095",
   "metadata": {},
   "outputs": [],
   "source": [
    "import cv2\n",
    "import pickle\n",
    "import numpy\n",
    "import face_recognition"
   ]
  },
  {
   "cell_type": "code",
   "execution_count": null,
   "id": "399e75a8",
   "metadata": {},
   "outputs": [],
   "source": [
    "cam = cv2.VideoCapture(0)"
   ]
  },
  {
   "cell_type": "code",
   "execution_count": null,
   "id": "b74185c4",
   "metadata": {},
   "outputs": [],
   "source": [
    "data = pickle.loads(open('face_enc', \"rb\").read())   # read the dataset\n",
    "person_name = data[\"names\"]   # getting the name of the person\n",
    "while True:\n",
    "    ret,frame = cam.read()\n",
    "    faces = cv2.resize(frame,(0,0),None,0.25,0.25)  # to have same resolution for all cameras\n",
    "    # fx,fy = 0.25 = 1/4th \n",
    "    # resizing improves the frame per second\n",
    "    faces = cv2.cvtColor(faces,cv2.COLOR_BGR2RGB)\n",
    "    faces_current_frame = face_recognition.face_locations(faces) # locate face in frame\n",
    "    encodes_current_frame = face_recognition.face_encodings(faces,faces_current_frame)\n",
    "    for encodeFace,faceLoc in zip (encodes_current_frame, faces_current_frame):\n",
    "        matches = face_recognition.compare_faces(data[\"encodings\"],encodeFace)\n",
    "        faceDis = face_recognition.face_distance(data[\"encodings\"],encodeFace)\n",
    "        # face_recognition.distance() returns an array of the distance of the test images with all images present in train directary\n",
    "        # the index of the minimum face distance will be the matching face\n",
    "        match_index = numpy.argmin(faceDis) # argmin index of minimum value\n",
    "        if matches[match_index]:\n",
    "            name = person_name[match_index]\n",
    "            y1,x2,y2,x1 = faceLoc\n",
    "            y1,x2,y2,x1 = y1*4,x2*4,y2*4,x1*4\n",
    "           # cv2.rectangle(frame,(x1,y1),(x2,y2),(0,255,0),2)   -----This is for Rectangular shape\n",
    "            cv2.circle(frame,(x1+80,y1+30),160,(255,0,0),3)    #-----This is for Circular shape,,,if thickness -ve circle is filled \n",
    "           # cv2.circle(frame,(x1+80,y1+30),140,(0,255,0),2)\n",
    "            #cv2.circle(frame,(x1+80,y1+30),120,(0,0,225),2)\n",
    "            cv2.rectangle(frame,(x1,y2-35),(x2,y2),(0,255,0),cv2.FILLED)\n",
    "            cv2.putText(frame,name,(x1+6,y2-6),cv2.FONT_HERSHEY_DUPLEX,1,(255,255,255),2)\n",
    "            \n",
    "            # 1 is font scale  2 is text thickness\n",
    "            \n",
    "        cv2.imshow(\"Camera\", frame)\n",
    "        Key = cv2.waitKey(1) & 0xFF\n",
    "        if Key==ord(\"q\"):\n",
    "            break\n",
    "camm.release()\n",
    "cv2.destroyAllWindows        "
   ]
  },
  {
   "cell_type": "code",
   "execution_count": null,
   "id": "eefe779b",
   "metadata": {},
   "outputs": [],
   "source": []
  },
  {
   "cell_type": "code",
   "execution_count": null,
   "id": "1c0cf656",
   "metadata": {},
   "outputs": [],
   "source": []
  },
  {
   "cell_type": "code",
   "execution_count": null,
   "id": "3f7cb4fb",
   "metadata": {},
   "outputs": [],
   "source": []
  },
  {
   "cell_type": "code",
   "execution_count": null,
   "id": "1b0783dd",
   "metadata": {},
   "outputs": [],
   "source": [
    "# Experiment code\n",
    "\n",
    "data = pickle.loads(open('face_enc', \"rb\").read())   # read the dataset\n",
    "person_name = data[\"names\"]   # getting the name of the person\n",
    "while True:\n",
    "    ret,frame = cam.read()\n",
    "    faces = cv2.resize(frame,(0,0),None,0.25,0.25)  # to have same resolution for all cameras\n",
    "    # fx,fy = 0.25 = 1/4th \n",
    "    # resizing improves the frame per second\n",
    "    faces = cv2.cvtColor(faces,cv2.COLOR_BGR2RGB)\n",
    "    faces_current_frame = face_recognition.face_locations(faces) # locate face in frame\n",
    "    encodes_current_frame = face_recognition.face_encodings(faces,faces_current_frame)\n",
    "    for encodeFace,faceLoc in zip (encodes_current_frame, faces_current_frame):\n",
    "        matches = face_recognition.compare_faces(data[\"encodings\"],encodeFace)\n",
    "        faceDis = face_recognition.face_distance(data[\"encodings\"],encodeFace)\n",
    "        # face_recognition.distance() returns an array of the distance of the test images with all images present in train directary\n",
    "        # the index of the minimum face distance will be the matching face\n",
    "        match_index = numpy.argmin(faceDis) # argmin index of minimum value\n",
    "        if matches[match_index]:\n",
    "            name = person_name[match_index]\n",
    "            y1,x2,y2,x1 = faceLoc\n",
    "            y1,x2,y2,x1 = y1*4,x2*4,y2*4,x1*4\n",
    "            cv2.circle(frame,(380,240),150,(1,1,1),3,5)\n",
    "            cv2.rectangle(frame,(x1,y2-35),(x2,y2),(0,255,0),cv2.FILLED)\n",
    "            cv2.putText(frame,name,(x1+6,y2-6),cv2.FONT_HERSHEY_DUPLEX,1,(255,255,255),2)\n",
    "            \n",
    "            # 1 is font scale  2 is text thickness\n",
    "            \n",
    "        cv2.imshow(\"Camera\", frame)\n",
    "        Key = cv2.waitKey(1) & 0xFF\n",
    "        if Key==ord(\"q\"):\n",
    "            break\n",
    "camm.release()\n",
    "cv2.destroyAllWindows (\"camera\")       "
   ]
  },
  {
   "cell_type": "code",
   "execution_count": null,
   "id": "3fa1e9f4",
   "metadata": {},
   "outputs": [],
   "source": []
  }
 ],
 "metadata": {
  "kernelspec": {
   "display_name": "Python 3 (ipykernel)",
   "language": "python",
   "name": "python3"
  },
  "language_info": {
   "codemirror_mode": {
    "name": "ipython",
    "version": 3
   },
   "file_extension": ".py",
   "mimetype": "text/x-python",
   "name": "python",
   "nbconvert_exporter": "python",
   "pygments_lexer": "ipython3",
   "version": "3.9.12"
  },
  "toc": {
   "base_numbering": 1,
   "nav_menu": {},
   "number_sections": true,
   "sideBar": true,
   "skip_h1_title": false,
   "title_cell": "Table of Contents",
   "title_sidebar": "Contents",
   "toc_cell": false,
   "toc_position": {},
   "toc_section_display": true,
   "toc_window_display": false
  }
 },
 "nbformat": 4,
 "nbformat_minor": 5
}
